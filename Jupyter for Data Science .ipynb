{
 "cells": [
  {
   "cell_type": "markdown",
   "id": "ef227031",
   "metadata": {},
   "source": [
    "Jupyter for Data Science "
   ]
  },
  {
   "cell_type": "markdown",
   "id": "8b11a106",
   "metadata": {},
   "source": [
    "Introduction\n",
    "\n",
    "This the first excersice"
   ]
  },
  {
   "cell_type": "markdown",
   "id": "d8660634",
   "metadata": {},
   "source": [
    "Data science languages\n",
    "\n",
    "Python,\n",
    "R,\n",
    "SQL,\n",
    "Scala,\n",
    "Java,\n",
    "C++,\n",
    "Julia,\n",
    "MatLab"
   ]
  },
  {
   "cell_type": "markdown",
   "id": "9c6f76ce",
   "metadata": {},
   "source": [
    "Data science libraries\n",
    "\n",
    "Pandas, NumPy, SciPy, and Matplotlib. For artificial intelligence, it has TensorFlow, PyTorch, Keras, and Scikit-learn"
   ]
  },
  {
   "cell_type": "markdown",
   "id": "dc3b74e6",
   "metadata": {},
   "source": [
    " Data Science tools\n",
    "    \n",
    "                                                    Open source Tools\n",
    "\n",
    "•\tData management tools  (MySQL, PostgreSQL, MongoDB, Apache CouchDB, Apache Cassandra, Hadoop File System, Ceph, and elastic search )\n",
    "\n",
    "•\tData integration and transformation (Apache AirFlow, KubeFlow, Apache Kafka, Apache Nifi, Apache SparkSQL, and NodeRED )\n",
    "\n",
    "•\tData visualization (Pixie Dust, Hue, Kibana, and Apache Superset. \n",
    "\n",
    "•\tModel building ( ModelDB, Prometheus, IBM AI Fairness 360, IBM Adversarial Robustness 360 Toolbox, and IBM AI Explainability 360)\n",
    "\n",
    "•\tModel deployment ( Apache PredictionIO, Seldon, Kubernetes, Redhat OpenShift, Mleap, TensorFlow service, TensorFlow lite, and TensorFlow dot JS)\n",
    "\n",
    "•\tModel monitoring and assessment ( ModelDB, Prometheus, IBM AI Fairness 360, IBM Adversarial Robustness 360 Toolbox, and IBM AI Explainability 360)\n",
    "\n",
    "•\tCode asset management ( Git, GitHub, GitLab, and Bitbucket. )\n",
    "\n",
    "•\tData asset management (Apache Atlas, ODPi Egeria, and Kylo.)\n",
    "\n",
    "•\tProgramming and Coding (Jupyter lab , jupyter notebook [most used] , spyder ,  apache spark , Apache Zeppelin, RStudio , Apache Flink , Ray , KNIME, Orange)\n",
    "\n",
    "\n",
    "\n",
    "                                                    Commercial Tools \n",
    "\n",
    "In data management, most of an enterprise’s relevant data is stored in an Oracle Database, in Microsoft SQL Server, or an IBM Db2. Although open-source databases are coming to the forefront, data integration tools that comprise extract, transform, and load (ETL) tools. According to a Gartner Magic Quadrant, Informatica PowerCenter and IBM InfoSphere DataStage are the leaders. These are followed by SAP, Oracle, SAS, Talend, and Microsoft products. These tools support the design and deployment of ETL data processing pipelines through a graphical interface. They bring along connectors to most of the commercial and open-source target information systems. Finally, Watson Studio Desktop includes a component called Data Refinery, which enables definition and execution of data integration processes in a spreadsheet-style .  data visualizations use business intelligence (BI) tools. The focus of these tools is to create visual reports and live dashboards. The most prominent commercial representatives are: Tableau, Microsoft Power BI, and IBM Cognos Analytics. Another type of visualization targets data scientists rather than end users. For example, the visualization can show relationships between different columns in a table. This functionality is contained in Watson Studio Desktop. If you want to build a machine learning model with a commercial tool, you should use a data mining product. The most prominent products in that space are: SPSS Modeler and SAS enterprise miner. In addition, SPSS Modeler is also available in Watson Studio Desktop, based on the tool’s cloud version.  Also, commercial software can export models in an open format. For example, SPSS Modeler supports exporting models as predictive model markup language (PMML), which an abundance of other commercial and open software packages can read. Model monitoring is a very new discipline. Currently, relevant commercial tools are not available. Therefore, open source is the first choice. The same is true for code asset management. Open source with Git and GitHub is the de facto standard. Watson Studio Desktop combines Jupyter Notebooks with graphical tools to maximize the performance of data scientists. Watson Studio, together with Watson Open Scale, is a fully integrated tool covering the data science life cycle involving all tasks discussed previously. Another example of a fully integrated commercial tool is H2O Driverless AI, which covers the complete data science life cycle.\n",
    "\n",
    "\n",
    "                                                    Cloud Based Tools\n",
    "\n",
    "Watson Studio and Watson OpenScale cover the complete development life cycle for all data science, machine learning, and artificial intelligence (AI) tasks. Another example is Microsoft Azure Machine Learning. It is also a full cloud-hosted offering supporting the complete development life cycle of all data science, machine learning, and AI tasks. And finally, another example is H2O Driverless AI. Although it is a product you download and install, there exists a one-click deployment for the standard cloud service providers  the cloud provider operates the product by backing up your data and configuring and installing updates. Some proprietary tools are only available from a single cloud provider. One example of such a service is Amazon Web Services DynamoDB, which is a NoSQL database. It allows storage and retrieving data in a key-value or a document store format. The most prominent document data structure is JSON. Another flavor of such a service is Cloudant, which is a database as a service offering. But, in the background, it is based on the open-source Apache CouchDB IBM offers Db2 as a service as well. It is an example of a commercial database made available as a SaaS offering in the cloud. \n",
    "commercial data integration tools that include extract, transform, and load (ETL) tools and extract, load, and transform (ELT) tools. It means the transformation steps are not done by a data integration team but are pushed toward the domain of the data scientist or data engineer. Two commercial data integration tools widely used are Informatica Cloud Data Integration and IBM’s Data Refinery. Data Refinery is part of IBM Watson Studio. It allows transforming large amounts of raw data into consumable, quality information in a spreadsheet-like user interface.\n",
    "cloud data visualization tools is huge, and every major cloud vendor has one. An example of a smaller company offering a cloud-based data visualization tool is Datameer. IBM offers its famous Cognos Business intelligence suite as a cloud solution. IBM Data Refinery also offers data exploration and visualization functionality in Watson Studio.\n",
    "Model building can be done using a service. One example of a service is Watson Machine Learning. Watson Machine Learning can train and build models using various open-source libraries. Google has a similar service on their cloud called AI Platform Training. Every cloud provider has a solution for this task. SPSS Modeler supports exporting models as Predictive Model Markup Language (PMML), which other commercial and open software packages can read. In addition, Watson Machine Learning deploys a model and makes it available to consumers using a REST interface. Amazon SageMaker Model Monitor is an example of a cloud tool to monitor deployed machine learning and deep learning models continuously. Every major cloud provider has similar tooling. Another tool for model monitoring is Watson OpenScale. \n"
   ]
  },
  {
   "cell_type": "markdown",
   "id": "9ec924b7",
   "metadata": {},
   "source": [
    "                                           \n",
    "                                          Arithmetic expression examples"
   ]
  },
  {
   "cell_type": "code",
   "execution_count": 3,
   "id": "c59f5d6e",
   "metadata": {},
   "outputs": [
    {
     "name": "stdout",
     "output_type": "stream",
     "text": [
      "Enter the first number: 5\n",
      "Enter the second number: 6\n",
      "The product of 5.0 and 6.0 is 30.0\n",
      "The sum of 5.0 and 6.0 is 11.0\n"
     ]
    }
   ],
   "source": [
    "# Get user input for the first number\n",
    "num1 = float(input(\"Enter the first number: \"))\n",
    "\n",
    "# Get user input for the second number\n",
    "num2 = float(input(\"Enter the second number: \"))\n",
    "\n",
    "# Multiply the numbers\n",
    "product = num1 * num2\n",
    "\n",
    "# Add the numbers\n",
    "sum_result = num1 + num2\n",
    "\n",
    "# Print the results\n",
    "print(f\"The product of {num1} and {num2} is {product}\")\n",
    "print(f\"The sum of {num1} and {num2} is {sum_result}\")\n"
   ]
  },
  {
   "cell_type": "code",
   "execution_count": 4,
   "id": "1eaef767",
   "metadata": {},
   "outputs": [
    {
     "name": "stdout",
     "output_type": "stream",
     "text": [
      "Enter the number of minutes: 60\n",
      "60.0 minutes is equal to 1.0 hours\n"
     ]
    }
   ],
   "source": [
    "# Get input from the user for the number of minutes\n",
    "minutes = float(input(\"Enter the number of minutes: \"))\n",
    "\n",
    "# Convert minutes to hours\n",
    "hours = minutes / 60\n",
    "\n",
    "# Print the result\n",
    "print(f\"{minutes} minutes is equal to {hours} hours\")"
   ]
  },
  {
   "cell_type": "markdown",
   "id": "52d56c6d",
   "metadata": {},
   "source": [
    "                                                    Objectives\n",
    "                                                  \n",
    "learn about the different types and categories of tools that data scientists.\n",
    " \n",
    "languages in Data Science and which one i should learn first.\n",
    " \n",
    "learn about the various libraries in data science. In addition, you will understand an API in relation to REST request and \n",
    "response and how to use a machine learning model to solve a problem.\n",
    "\n",
    "learn how to work with different kernels in a Notebook session and about the basic Jupyter architecture\n",
    "\n",
    "introduction to R and RStudio\n",
    "\n",
    "Distributed Version Control Systems (DVCS) have become critical tools in software development and key enablers for social and collaborative coding. While there are many distributed versioning systems, Git is amongst the most popular ones and has hands-on skills to work with Git and GitHub."
   ]
  },
  {
   "cell_type": "markdown",
   "id": "866157c8",
   "metadata": {},
   "source": [
    "Author's Name : Mohamed Samy Mubarak"
   ]
  },
  {
   "cell_type": "code",
   "execution_count": null,
   "id": "d817205f",
   "metadata": {},
   "outputs": [],
   "source": []
  }
 ],
 "metadata": {
  "kernelspec": {
   "display_name": "Python 3 (ipykernel)",
   "language": "python",
   "name": "python3"
  },
  "language_info": {
   "codemirror_mode": {
    "name": "ipython",
    "version": 3
   },
   "file_extension": ".py",
   "mimetype": "text/x-python",
   "name": "python",
   "nbconvert_exporter": "python",
   "pygments_lexer": "ipython3",
   "version": "3.9.12"
  }
 },
 "nbformat": 4,
 "nbformat_minor": 5
}
